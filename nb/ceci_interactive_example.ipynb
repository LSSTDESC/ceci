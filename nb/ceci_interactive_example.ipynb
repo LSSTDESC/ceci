{
 "cells": [
  {
   "cell_type": "markdown",
   "id": "d75f060b",
   "metadata": {},
   "source": [
    "#### First let's import a few things"
   ]
  },
  {
   "cell_type": "code",
   "execution_count": 1,
   "id": "88f1ab64",
   "metadata": {},
   "outputs": [],
   "source": [
    "import os\n",
    "import ceci\n",
    "from ceci.pipeline import Pipeline"
   ]
  },
  {
   "cell_type": "markdown",
   "id": "819c8115",
   "metadata": {},
   "source": [
    "#### For now we need to be in the top-level ceci directory to read the input yaml file\n",
    "\n",
    "This is b/c it refers to the configuration file, which we will also need to read.\n",
    "\n",
    "We should fix this."
   ]
  },
  {
   "cell_type": "code",
   "execution_count": 2,
   "id": "e7c5a7d4",
   "metadata": {},
   "outputs": [],
   "source": [
    "os.chdir(os.path.join(os.path.dirname(ceci.__file__), '..'))\n",
    "pipeline = Pipeline.read('tests/test.yml')"
   ]
  },
  {
   "cell_type": "markdown",
   "id": "cce25626",
   "metadata": {},
   "source": [
    "#### Now we have some pipeline introspection\n",
    "\n",
    "1. Printing a list of stages\n",
    "2. Accessing a stage as an attribute of the pipeline\n",
    "3. Printing the inputs and output connections associated to a stage\n",
    "4. Printing the configuration associated to a stage"
   ]
  },
  {
   "cell_type": "code",
   "execution_count": 3,
   "id": "a53109f4",
   "metadata": {},
   "outputs": [
    {
     "name": "stdout",
     "output_type": "stream",
     "text": [
      "PZEstimationPipe    : <ceci_example.example_stages.PZEstimationPipe object at 0x7fdcfae9c8b0>\n",
      "shearMeasurementPipe: <ceci_example.example_stages.shearMeasurementPipe object at 0x7fdcfae9cbb0>\n",
      "WLGCSelector        : <ceci_example.example_stages.WLGCSelector object at 0x7fdcfae9c1f0>\n",
      "SysMapMaker         : <ceci_example.example_stages.SysMapMaker object at 0x7fdcfafb3fd0>\n",
      "SourceSummarizer    : <ceci_example.example_stages.SourceSummarizer object at 0x7fdcfafb3e80>\n",
      "WLGCCov             : <ceci_example.example_stages.WLGCCov object at 0x7fdcfafb3ca0>\n",
      "WLGCRandoms         : <ceci_example.example_stages.WLGCRandoms object at 0x7fdcfafb3be0>\n",
      "WLGCTwoPoint        : <ceci_example.example_stages.WLGCTwoPoint object at 0x7fdcfafb3a30>\n",
      "WLGCSummaryStatistic: <ceci_example.example_stages.WLGCSummaryStatistic object at 0x7fdcfafb3d90>\n"
     ]
    }
   ],
   "source": [
    "pipeline.print_stages()"
   ]
  },
  {
   "cell_type": "code",
   "execution_count": 4,
   "id": "0349e47d",
   "metadata": {},
   "outputs": [
    {
     "name": "stdout",
     "output_type": "stream",
     "text": [
      "<ceci_example.example_stages.SysMapMaker object at 0x7fdcfafb3fd0>\n"
     ]
    }
   ],
   "source": [
    "print(pipeline.SysMapMaker)"
   ]
  },
  {
   "cell_type": "code",
   "execution_count": 5,
   "id": "33ad41c1",
   "metadata": {},
   "outputs": [
    {
     "name": "stdout",
     "output_type": "stream",
     "text": [
      "Inputs--------\n",
      "DM                   : <class 'ceci_example.types.TextFile'> : ./tests/inputs/dm.txt\n",
      "Outputs--------\n",
      "diagnostic_maps      : <class 'ceci_example.types.TextFile'> : diagnostic_maps.txt\n"
     ]
    }
   ],
   "source": [
    "pipeline.SysMapMaker.print_io()"
   ]
  },
  {
   "cell_type": "code",
   "execution_count": 6,
   "id": "e16a6748",
   "metadata": {},
   "outputs": [
    {
     "name": "stdout",
     "output_type": "stream",
     "text": [
      "{'metacalibration': True}\n"
     ]
    }
   ],
   "source": [
    "print(pipeline.SysMapMaker.config)"
   ]
  },
  {
   "cell_type": "markdown",
   "id": "0e9ccff7",
   "metadata": {},
   "source": [
    "#### Ok, eventually this example should include most stuff, but for now let's just the pipeline"
   ]
  },
  {
   "cell_type": "code",
   "execution_count": 7,
   "id": "02b345a5",
   "metadata": {},
   "outputs": [
    {
     "name": "stdout",
     "output_type": "stream",
     "text": [
      "\n",
      "Executing PZEstimationPipe\n",
      "Command is:\n",
      "OMP_NUM_THREADS=1   python3 -m ceci_example PZEstimationPipe   --DM=./tests/inputs/dm.txt   --fiducial_cosmology=./tests/inputs/fiducial_cosmology.txt   --config=./tests/config.yml   --photoz_pdfs=./tests/outputs/photoz_pdfs.txt \n",
      "Output writing to ./tests/logs/PZEstimationPipe.out\n",
      "\n",
      "Job PZEstimationPipe has completed successfully!\n",
      "\n",
      "Executing shearMeasurementPipe\n",
      "Command is:\n",
      "OMP_NUM_THREADS=1   python3 -m ceci_example shearMeasurementPipe   --DM=./tests/inputs/dm.txt   --config=./tests/config.yml   --shear_catalog=./tests/outputs/shear_catalog.txt \n",
      "Output writing to ./tests/logs/shearMeasurementPipe.out\n",
      "\n",
      "Job shearMeasurementPipe has completed successfully!\n",
      "\n",
      "Executing WLGCSelector\n",
      "Command is:\n",
      "OMP_NUM_THREADS=1   python3 -m ceci_example WLGCSelector   --shear_catalog=./tests/outputs/shear_catalog.txt   --photoz_pdfs=./tests/outputs/photoz_pdfs.txt   --config=./tests/config.yml   --tomography_catalog=./tests/outputs/tomography_catalog.txt \n",
      "Output writing to ./tests/logs/WLGCSelector.out\n",
      "\n",
      "Job WLGCSelector has completed successfully!\n",
      "\n",
      "Executing SysMapMaker\n",
      "Command is:\n",
      "OMP_NUM_THREADS=1   python3 -m ceci_example SysMapMaker   --DM=./tests/inputs/dm.txt   --config=./tests/config.yml   --diagnostic_maps=./tests/outputs/diagnostic_maps.txt \n",
      "Output writing to ./tests/logs/SysMapMaker.out\n",
      "\n",
      "Job SysMapMaker has completed successfully!\n",
      "\n",
      "Executing SourceSummarizer\n",
      "Command is:\n",
      "OMP_NUM_THREADS=1   python3 -m ceci_example SourceSummarizer   --tomography_catalog=./tests/outputs/tomography_catalog.txt   --photoz_pdfs=./tests/outputs/photoz_pdfs.txt   --diagnostic_maps=./tests/outputs/diagnostic_maps.txt   --config=./tests/config.yml   --source_summary_data=./tests/outputs/source_summary_data.txt \n",
      "Output writing to ./tests/logs/SourceSummarizer.out\n",
      "\n",
      "Job SourceSummarizer has completed successfully!\n",
      "\n",
      "Executing WLGCCov\n",
      "Command is:\n",
      "OMP_NUM_THREADS=1   python3 -m ceci_example WLGCCov   --fiducial_cosmology=./tests/inputs/fiducial_cosmology.txt   --tomography_catalog=./tests/outputs/tomography_catalog.txt   --shear_catalog=./tests/outputs/shear_catalog.txt   --source_summary_data=./tests/outputs/source_summary_data.txt   --diagnostic_maps=./tests/outputs/diagnostic_maps.txt   --config=./tests/config.yml   --covariance=./tests/outputs/covariance.txt \n",
      "Output writing to ./tests/logs/WLGCCov.out\n",
      "\n",
      "Job WLGCCov has completed successfully!\n",
      "\n",
      "Executing WLGCRandoms\n",
      "Command is:\n",
      "OMP_NUM_THREADS=1   python3 -m ceci_example WLGCRandoms   --diagnostic_maps=./tests/outputs/diagnostic_maps.txt   --config=./tests/config.yml   --random_catalog=./tests/outputs/random_catalog.txt \n",
      "Output writing to ./tests/logs/WLGCRandoms.out\n",
      "\n",
      "Job WLGCRandoms has completed successfully!\n",
      "\n",
      "Executing WLGCTwoPoint\n",
      "Command is:\n",
      "OMP_NUM_THREADS=1   python3 -m ceci_example WLGCTwoPoint   --tomography_catalog=./tests/outputs/tomography_catalog.txt   --shear_catalog=./tests/outputs/shear_catalog.txt   --diagnostic_maps=./tests/outputs/diagnostic_maps.txt   --random_catalog=./tests/outputs/random_catalog.txt   --config=./tests/config.yml   --twopoint_data=./tests/outputs/twopoint_data.txt \n",
      "Output writing to ./tests/logs/WLGCTwoPoint.out\n",
      "\n",
      "Job WLGCTwoPoint has completed successfully!\n",
      "\n",
      "Executing WLGCSummaryStatistic\n",
      "Command is:\n",
      "OMP_NUM_THREADS=2   python3 -m ceci_example WLGCSummaryStatistic   --twopoint_data=./tests/outputs/twopoint_data.txt   --covariance=./tests/outputs/covariance.txt   --source_summary_data=./tests/outputs/source_summary_data.txt   --config=./tests/config.yml   --wlgc_summary_data=./tests/outputs/wlgc_summary_data.txt \n",
      "Output writing to ./tests/logs/WLGCSummaryStatistic.out\n",
      "\n",
      "Job WLGCSummaryStatistic has completed successfully!\n"
     ]
    }
   ],
   "source": [
    "status = pipeline.run()"
   ]
  },
  {
   "cell_type": "code",
   "execution_count": null,
   "id": "92fe20b2",
   "metadata": {},
   "outputs": [],
   "source": []
  }
 ],
 "metadata": {
  "kernelspec": {
   "display_name": "Python 3 (ipykernel)",
   "language": "python",
   "name": "python3"
  },
  "language_info": {
   "codemirror_mode": {
    "name": "ipython",
    "version": 3
   },
   "file_extension": ".py",
   "mimetype": "text/x-python",
   "name": "python",
   "nbconvert_exporter": "python",
   "pygments_lexer": "ipython3",
   "version": "3.8.12"
  }
 },
 "nbformat": 4,
 "nbformat_minor": 5
}
