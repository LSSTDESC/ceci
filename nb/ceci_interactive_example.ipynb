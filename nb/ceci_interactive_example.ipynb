{
 "cells": [
  {
   "cell_type": "markdown",
   "id": "d75f060b",
   "metadata": {},
   "source": [
    "#### First let's import a few things"
   ]
  },
  {
   "cell_type": "code",
   "execution_count": 1,
   "id": "88f1ab64",
   "metadata": {},
   "outputs": [],
   "source": [
    "import os\n",
    "import ceci\n",
    "from ceci.pipeline import Pipeline"
   ]
  },
  {
   "cell_type": "markdown",
   "id": "819c8115",
   "metadata": {},
   "source": [
    "#### For now we need to be in the top-level ceci directory to read the input yaml file\n",
    "\n",
    "This is b/c it refers to the configuration file, which we will also need to read.\n",
    "\n",
    "We should fix this."
   ]
  },
  {
   "cell_type": "code",
   "execution_count": 2,
   "id": "e7c5a7d4",
   "metadata": {},
   "outputs": [],
   "source": [
    "\n",
    "os.chdir(os.getcwd() + '/../')\n",
    "pipeline = Pipeline.read('tests/test.yml')"
   ]
  },
  {
   "cell_type": "code",
   "execution_count": 3,
   "id": "502bc396",
   "metadata": {},
   "outputs": [
    {
     "data": {
      "text/plain": [
       "[<ceci_example.example_stages.SysMapMaker at 0x1087ad690>,\n",
       " <ceci_example.example_stages.shearMeasurementPipe at 0x1087ad6f0>,\n",
       " <ceci_example.example_stages.PZEstimationPipe at 0x1087aca60>,\n",
       " <ceci_example.example_stages.WLGCRandoms at 0x1087ac670>,\n",
       " <ceci_example.example_stages.WLGCSelector at 0x1087ac820>,\n",
       " <ceci_example.example_stages.SourceSummarizer at 0x1087acf10>,\n",
       " <ceci_example.example_stages.WLGCTwoPoint at 0x1087ae380>,\n",
       " <ceci_example.example_stages.WLGCCov at 0x1087ac700>,\n",
       " <ceci_example.example_stages.WLGCSummaryStatistic at 0x1087ad450>]"
      ]
     },
     "execution_count": 3,
     "metadata": {},
     "output_type": "execute_result"
    }
   ],
   "source": [
    "pipeline.stages"
   ]
  },
  {
   "cell_type": "markdown",
   "id": "cce25626",
   "metadata": {},
   "source": [
    "#### Now we have some pipeline introspection\n",
    "\n",
    "1. Printing a list of stages\n",
    "2. Accessing a stage as an attribute of the pipeline\n",
    "3. Printing the inputs and output connections associated to a stage\n",
    "4. Printing the configuration associated to a stage"
   ]
  },
  {
   "cell_type": "code",
   "execution_count": 4,
   "id": "a53109f4",
   "metadata": {},
   "outputs": [
    {
     "name": "stdout",
     "output_type": "stream",
     "text": [
      "SysMapMaker         : <ceci_example.example_stages.SysMapMaker object at 0x1087ad690>\n",
      "shearMeasurementPipe: <ceci_example.example_stages.shearMeasurementPipe object at 0x1087ad6f0>\n",
      "PZEstimationPipe    : <ceci_example.example_stages.PZEstimationPipe object at 0x1087aca60>\n",
      "WLGCRandoms         : <ceci_example.example_stages.WLGCRandoms object at 0x1087ac670>\n",
      "WLGCSelector        : <ceci_example.example_stages.WLGCSelector object at 0x1087ac820>\n",
      "SourceSummarizer    : <ceci_example.example_stages.SourceSummarizer object at 0x1087acf10>\n",
      "WLGCTwoPoint        : <ceci_example.example_stages.WLGCTwoPoint object at 0x1087ae380>\n",
      "WLGCCov             : <ceci_example.example_stages.WLGCCov object at 0x1087ac700>\n",
      "WLGCSummaryStatistic: <ceci_example.example_stages.WLGCSummaryStatistic object at 0x1087ad450>\n"
     ]
    }
   ],
   "source": [
    "pipeline.print_stages()"
   ]
  },
  {
   "cell_type": "code",
   "execution_count": 5,
   "id": "0349e47d",
   "metadata": {},
   "outputs": [
    {
     "name": "stdout",
     "output_type": "stream",
     "text": [
      "<ceci_example.example_stages.SysMapMaker object at 0x1087ad690>\n"
     ]
    }
   ],
   "source": [
    "print(pipeline.SysMapMaker)"
   ]
  },
  {
   "cell_type": "code",
   "execution_count": 6,
   "id": "33ad41c1",
   "metadata": {},
   "outputs": [
    {
     "name": "stdout",
     "output_type": "stream",
     "text": [
      "Inputs--------\n",
      "DM                   : DM                   :<class 'ceci_example.types.TextFile'> : ./tests/inputs/dm.txt\n",
      "Outputs--------\n",
      "diagnostic_maps      : diagnostic_maps      :<class 'ceci_example.types.TextFile'> : diagnostic_maps.txt\n"
     ]
    }
   ],
   "source": [
    "pipeline.SysMapMaker.print_io()"
   ]
  },
  {
   "cell_type": "code",
   "execution_count": 7,
   "id": "e16a6748",
   "metadata": {},
   "outputs": [
    {
     "name": "stdout",
     "output_type": "stream",
     "text": [
      "StageConfig{zbin_edges:[0.2, 0.3, 0.5],ra_range:[-5, 5],metacalibration:True,shear_catalog:./shear_catalog.txt,photoz_pdfs:./photoz_pdfs.txt,config:./tests/config.yml,}\n"
     ]
    }
   ],
   "source": [
    "print(repr(pipeline.WLGCSelector.config))"
   ]
  },
  {
   "cell_type": "markdown",
   "id": "1e6f1c13",
   "metadata": {},
   "source": [
    "#### Now we show how to save and read back a pipeline\n",
    "\n",
    "The two different versions (i.e., with and without the reduce_config=True) will save slightly different versions\n",
    "of the yaml file.  \n",
    "\n",
    "In the former case we explicitly save everything for each stage of the pipeline.\n",
    "In the later case, we reduce the configuration by parsing out the inputs, outputs and global params.  "
   ]
  },
  {
   "cell_type": "code",
   "execution_count": 8,
   "id": "f331716f",
   "metadata": {},
   "outputs": [],
   "source": [
    "pipeline.save('test_save.yml')"
   ]
  },
  {
   "cell_type": "code",
   "execution_count": 9,
   "id": "91df34d8",
   "metadata": {},
   "outputs": [],
   "source": [
    "pipe_read = Pipeline.read('test_save.yml')"
   ]
  },
  {
   "cell_type": "code",
   "execution_count": 10,
   "id": "0188188d",
   "metadata": {},
   "outputs": [],
   "source": [
    "pipeline.save('test_save_v2.yml', reduce_config=True)"
   ]
  },
  {
   "cell_type": "code",
   "execution_count": 11,
   "id": "6c753627",
   "metadata": {},
   "outputs": [],
   "source": [
    "pipe_read_v2 = Pipeline.read('test_save_v2.yml')"
   ]
  },
  {
   "cell_type": "markdown",
   "id": "0e9ccff7",
   "metadata": {},
   "source": [
    "#### Ok, eventually this example should include most stuff, but for now let's just the pipeline"
   ]
  },
  {
   "cell_type": "code",
   "execution_count": 12,
   "id": "02b345a5",
   "metadata": {},
   "outputs": [
    {
     "name": "stdout",
     "output_type": "stream",
     "text": [
      "\n",
      "Executing SysMapMaker\n",
      "Command is:\n",
      "OMP_NUM_THREADS=1   python3 -m ceci_example SysMapMaker   --DM=./tests/inputs/dm.txt   --config=./tests/config.yml   --diagnostic_maps=./tests/outputs/diagnostic_maps.txt \n",
      "Output writing to ./tests/logs/SysMapMaker.out\n",
      "\n",
      "Job SysMapMaker has completed successfully in 0.5 seconds\n",
      "\n",
      "Executing shearMeasurementPipe\n",
      "Command is:\n",
      "OMP_NUM_THREADS=1   python3 -m ceci_example shearMeasurementPipe   --DM=./tests/inputs/dm.txt   --config=./tests/config.yml   --shear_catalog=./tests/outputs/shear_catalog.txt \n",
      "Output writing to ./tests/logs/shearMeasurementPipe.out\n",
      "\n",
      "Job shearMeasurementPipe has completed successfully in 0.5 seconds\n",
      "\n",
      "Executing PZEstimationPipe\n",
      "Command is:\n",
      "OMP_NUM_THREADS=1   python3 -m ceci_example PZEstimationPipe   --DM=./tests/inputs/dm.txt   --fiducial_cosmology=./tests/inputs/fiducial_cosmology.txt   --config=./tests/config.yml   --photoz_pdfs=./tests/outputs/photoz_pdfs.txt \n",
      "Output writing to ./tests/logs/PZEstimationPipe.out\n",
      "\n",
      "Job PZEstimationPipe has completed successfully in 0.5 seconds\n",
      "\n",
      "Executing WLGCRandoms\n",
      "Command is:\n",
      "OMP_NUM_THREADS=1   python3 -m ceci_example WLGCRandoms   --diagnostic_maps=./tests/outputs/diagnostic_maps.txt   --config=./tests/config.yml   --random_catalog=./tests/outputs/random_catalog.txt \n",
      "Output writing to ./tests/logs/WLGCRandoms.out\n",
      "\n",
      "Job WLGCRandoms has completed successfully in 0.5 seconds\n",
      "\n",
      "Executing WLGCSelector\n",
      "Command is:\n",
      "OMP_NUM_THREADS=1   python3 -m ceci_example WLGCSelector   --shear_catalog=./tests/outputs/shear_catalog.txt   --photoz_pdfs=./tests/outputs/photoz_pdfs.txt   --config=./tests/config.yml   --tomography_catalog=./tests/outputs/tomography_catalog.txt \n",
      "Output writing to ./tests/logs/WLGCSelector.out\n",
      "\n",
      "Job WLGCSelector has completed successfully in 0.5 seconds\n",
      "\n",
      "Executing SourceSummarizer\n",
      "Command is:\n",
      "OMP_NUM_THREADS=1   python3 -m ceci_example SourceSummarizer   --tomography_catalog=./tests/outputs/tomography_catalog.txt   --photoz_pdfs=./tests/outputs/photoz_pdfs.txt   --diagnostic_maps=./tests/outputs/diagnostic_maps.txt   --config=./tests/config.yml   --source_summary_data=./tests/outputs/source_summary_data.txt \n",
      "Output writing to ./tests/logs/SourceSummarizer.out\n",
      "\n",
      "Job SourceSummarizer has completed successfully in 0.5 seconds\n",
      "\n",
      "Executing WLGCTwoPoint\n",
      "Command is:\n",
      "OMP_NUM_THREADS=1   python3 -m ceci_example WLGCTwoPoint   --tomography_catalog=./tests/outputs/tomography_catalog.txt   --shear_catalog=./tests/outputs/shear_catalog.txt   --diagnostic_maps=./tests/outputs/diagnostic_maps.txt   --random_catalog=./tests/outputs/random_catalog.txt   --config=./tests/config.yml   --twopoint_data=./tests/outputs/twopoint_data.txt \n",
      "Output writing to ./tests/logs/WLGCTwoPoint.out\n",
      "\n",
      "Job WLGCTwoPoint has completed successfully in 0.5 seconds\n",
      "\n",
      "Executing WLGCCov\n",
      "Command is:\n",
      "OMP_NUM_THREADS=1   python3 -m ceci_example WLGCCov   --fiducial_cosmology=./tests/inputs/fiducial_cosmology.txt   --tomography_catalog=./tests/outputs/tomography_catalog.txt   --shear_catalog=./tests/outputs/shear_catalog.txt   --source_summary_data=./tests/outputs/source_summary_data.txt   --diagnostic_maps=./tests/outputs/diagnostic_maps.txt   --config=./tests/config.yml   --covariance_1=./tests/outputs/covariance_shared.txt \n",
      "Output writing to ./tests/logs/WLGCCov.out\n",
      "\n",
      "Job WLGCCov has completed successfully in 0.5 seconds\n",
      "\n",
      "Executing WLGCSummaryStatistic\n",
      "Command is:\n",
      "OMP_NUM_THREADS=2   python3 -m ceci_example WLGCSummaryStatistic   --twopoint_data=./tests/outputs/twopoint_data.txt   --covariance_2=./tests/outputs/covariance_shared.txt   --source_summary_data=./tests/outputs/source_summary_data.txt   --config=./tests/config.yml   --wlgc_summary_data=./tests/outputs/wlgc_summary_data.txt \n",
      "Output writing to ./tests/logs/WLGCSummaryStatistic.out\n",
      "\n",
      "Job WLGCSummaryStatistic has completed successfully in 0.5 seconds\n"
     ]
    }
   ],
   "source": [
    "status = pipeline.run()"
   ]
  },
  {
   "cell_type": "markdown",
   "id": "a3ace45a",
   "metadata": {},
   "source": [
    "#### Now let's do the same thing by building the pipeline with the python interface"
   ]
  },
  {
   "cell_type": "code",
   "execution_count": 13,
   "id": "2790e6cb",
   "metadata": {},
   "outputs": [],
   "source": [
    "from ceci_example.example_stages import *"
   ]
  },
  {
   "cell_type": "code",
   "execution_count": 14,
   "id": "13669ff1",
   "metadata": {},
   "outputs": [
    {
     "data": {
      "text/plain": [
       "{'wlgc_summary_data': './wlgc_summary_data.txt'}"
      ]
     },
     "execution_count": 14,
     "metadata": {},
     "output_type": "execute_result"
    }
   ],
   "source": [
    "pipe2 = Pipeline.interactive()\n",
    "overall_inputs = {'DM':'./tests/inputs/dm.txt',\n",
    "                  'fiducial_cosmology':'./tests/inputs/fiducial_cosmology.txt'}\n",
    "inputs = overall_inputs.copy()\n",
    "inputs['metacalibration'] = True\n",
    "inputs['config'] = None\n",
    "\n",
    "pipe2.pipeline_files.update(**inputs)\n",
    "pipe2.build_stage(PZEstimationPipe)\n",
    "pipe2.build_stage(shearMeasurementPipe, apply_flag=False)\n",
    "pipe2.build_stage(WLGCSelector, zbin_edges=[0.2, 0.3, 0.5], ra_range=[-5, 5])\n",
    "pipe2.build_stage(SysMapMaker)\n",
    "pipe2.build_stage(SourceSummarizer)\n",
    "pipe2.build_stage(WLGCCov, aliases={\"covariance_1\":\"covariance_shared\"})\n",
    "pipe2.build_stage(WLGCRandoms)\n",
    "pipe2.build_stage(WLGCTwoPoint)\n",
    "pipe2.build_stage(WLGCSummaryStatistic, aliases={\"covariance_2\":\"covariance_shared\"})\n"
   ]
  },
  {
   "cell_type": "code",
   "execution_count": 15,
   "id": "909f7cfa",
   "metadata": {},
   "outputs": [
    {
     "name": "stdout",
     "output_type": "stream",
     "text": [
      "{DM:./tests/inputs/dm.txt,fiducial_cosmology:./tests/inputs/fiducial_cosmology.txt,metacalibration:True,config:None,photoz_pdfs:./photoz_pdfs.txt,shear_catalog:./shear_catalog.txt,tomography_catalog:./tomography_catalog.txt,diagnostic_maps:./diagnostic_maps.txt,source_summary_data:./source_summary_data.txt,}\n"
     ]
    }
   ],
   "source": [
    "print(pipe2.WLGCCov.config)"
   ]
  },
  {
   "cell_type": "code",
   "execution_count": 16,
   "id": "c65f96ae",
   "metadata": {},
   "outputs": [],
   "source": [
    "run_config = {\n",
    "    'output_dir': './tests/outputs',\n",
    "    'log_dir': './tests/logs',\n",
    "    'resume': 'restart',\n",
    "}\n",
    "\n",
    "stages_config = './tests/config.yml'\n",
    "\n",
    "pipe2.initialize(overall_inputs, run_config,  stages_config);"
   ]
  },
  {
   "cell_type": "code",
   "execution_count": 17,
   "id": "52595250",
   "metadata": {},
   "outputs": [
    {
     "data": {
      "text/plain": [
       "[('covariance_1', ceci_example.types.TextFile)]"
      ]
     },
     "execution_count": 17,
     "metadata": {},
     "output_type": "execute_result"
    }
   ],
   "source": [
    "pipe2.WLGCCov.outputs"
   ]
  },
  {
   "cell_type": "code",
   "execution_count": 18,
   "id": "687115f5",
   "metadata": {},
   "outputs": [
    {
     "data": {
      "text/plain": [
       "{'covariance_shared': './tests/outputs/covariance_shared.txt'}"
      ]
     },
     "execution_count": 18,
     "metadata": {},
     "output_type": "execute_result"
    }
   ],
   "source": [
    "pipe2.WLGCCov.find_outputs(pipe2.run_config['output_dir'])"
   ]
  },
  {
   "cell_type": "code",
   "execution_count": 19,
   "id": "a22aa4a3",
   "metadata": {},
   "outputs": [
    {
     "name": "stdout",
     "output_type": "stream",
     "text": [
      "\n",
      "Executing shearMeasurementPipe\n",
      "Command is:\n",
      "OMP_NUM_THREADS=1   python3 -m ceci_example shearMeasurementPipe   --DM=./tests/inputs/dm.txt   --config=./tests/config.yml   --shear_catalog=./tests/outputs/shear_catalog.txt \n",
      "Output writing to ./tests/logs/shearMeasurementPipe.out\n",
      "\n",
      "Job shearMeasurementPipe has completed successfully in 0.5 seconds\n",
      "\n",
      "Executing SysMapMaker\n",
      "Command is:\n",
      "OMP_NUM_THREADS=1   python3 -m ceci_example SysMapMaker   --DM=./tests/inputs/dm.txt   --config=./tests/config.yml   --diagnostic_maps=./tests/outputs/diagnostic_maps.txt \n",
      "Output writing to ./tests/logs/SysMapMaker.out\n",
      "\n",
      "Job SysMapMaker has completed successfully in 0.5 seconds\n",
      "\n",
      "Executing PZEstimationPipe\n",
      "Command is:\n",
      "OMP_NUM_THREADS=1   python3 -m ceci_example PZEstimationPipe   --DM=./tests/inputs/dm.txt   --fiducial_cosmology=./tests/inputs/fiducial_cosmology.txt   --config=./tests/config.yml   --photoz_pdfs=./tests/outputs/photoz_pdfs.txt \n",
      "Output writing to ./tests/logs/PZEstimationPipe.out\n",
      "\n",
      "Job PZEstimationPipe has completed successfully in 0.5 seconds\n",
      "\n",
      "Executing WLGCRandoms\n",
      "Command is:\n",
      "OMP_NUM_THREADS=1   python3 -m ceci_example WLGCRandoms   --diagnostic_maps=./tests/outputs/diagnostic_maps.txt   --config=./tests/config.yml   --random_catalog=./tests/outputs/random_catalog.txt \n",
      "Output writing to ./tests/logs/WLGCRandoms.out\n",
      "\n",
      "Job WLGCRandoms has completed successfully in 0.5 seconds\n",
      "\n",
      "Executing WLGCSelector\n",
      "Command is:\n",
      "OMP_NUM_THREADS=1   python3 -m ceci_example WLGCSelector   --shear_catalog=./tests/outputs/shear_catalog.txt   --photoz_pdfs=./tests/outputs/photoz_pdfs.txt   --config=./tests/config.yml   --tomography_catalog=./tests/outputs/tomography_catalog.txt \n",
      "Output writing to ./tests/logs/WLGCSelector.out\n",
      "\n",
      "Job WLGCSelector has completed successfully in 0.5 seconds\n",
      "\n",
      "Executing SourceSummarizer\n",
      "Command is:\n",
      "OMP_NUM_THREADS=1   python3 -m ceci_example SourceSummarizer   --tomography_catalog=./tests/outputs/tomography_catalog.txt   --photoz_pdfs=./tests/outputs/photoz_pdfs.txt   --diagnostic_maps=./tests/outputs/diagnostic_maps.txt   --config=./tests/config.yml   --source_summary_data=./tests/outputs/source_summary_data.txt \n",
      "Output writing to ./tests/logs/SourceSummarizer.out\n",
      "\n",
      "Job SourceSummarizer has completed successfully in 0.5 seconds\n",
      "\n",
      "Executing WLGCTwoPoint\n",
      "Command is:\n",
      "OMP_NUM_THREADS=1   python3 -m ceci_example WLGCTwoPoint   --tomography_catalog=./tests/outputs/tomography_catalog.txt   --shear_catalog=./tests/outputs/shear_catalog.txt   --diagnostic_maps=./tests/outputs/diagnostic_maps.txt   --random_catalog=./tests/outputs/random_catalog.txt   --config=./tests/config.yml   --twopoint_data=./tests/outputs/twopoint_data.txt \n",
      "Output writing to ./tests/logs/WLGCTwoPoint.out\n",
      "\n",
      "Job WLGCTwoPoint has completed successfully in 0.5 seconds\n",
      "\n",
      "Executing WLGCCov\n",
      "Command is:\n",
      "OMP_NUM_THREADS=1   python3 -m ceci_example WLGCCov   --fiducial_cosmology=./tests/inputs/fiducial_cosmology.txt   --tomography_catalog=./tests/outputs/tomography_catalog.txt   --shear_catalog=./tests/outputs/shear_catalog.txt   --source_summary_data=./tests/outputs/source_summary_data.txt   --diagnostic_maps=./tests/outputs/diagnostic_maps.txt   --config=./tests/config.yml   --covariance_1=./tests/outputs/covariance_shared.txt \n",
      "Output writing to ./tests/logs/WLGCCov.out\n",
      "\n",
      "Job WLGCCov has completed successfully in 0.5 seconds\n",
      "\n",
      "Executing WLGCSummaryStatistic\n",
      "Command is:\n",
      "OMP_NUM_THREADS=1   python3 -m ceci_example WLGCSummaryStatistic   --twopoint_data=./tests/outputs/twopoint_data.txt   --covariance_2=./tests/outputs/covariance_shared.txt   --source_summary_data=./tests/outputs/source_summary_data.txt   --config=./tests/config.yml   --wlgc_summary_data=./tests/outputs/wlgc_summary_data.txt \n",
      "Output writing to ./tests/logs/WLGCSummaryStatistic.out\n",
      "\n",
      "Job WLGCSummaryStatistic has completed successfully in 0.5 seconds\n"
     ]
    },
    {
     "data": {
      "text/plain": [
       "0"
      ]
     },
     "execution_count": 19,
     "metadata": {},
     "output_type": "execute_result"
    }
   ],
   "source": [
    "pipe2.run()"
   ]
  },
  {
   "cell_type": "code",
   "execution_count": null,
   "id": "df60b9ee",
   "metadata": {},
   "outputs": [],
   "source": []
  }
 ],
 "metadata": {
  "kernelspec": {
   "display_name": "conda",
   "language": "python",
   "name": "python3"
  },
  "language_info": {
   "codemirror_mode": {
    "name": "ipython",
    "version": 3
   },
   "file_extension": ".py",
   "mimetype": "text/x-python",
   "name": "python",
   "nbconvert_exporter": "python",
   "pygments_lexer": "ipython3",
   "version": "3.10.17"
  }
 },
 "nbformat": 4,
 "nbformat_minor": 5
}
