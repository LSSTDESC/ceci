{
 "cells": [
  {
   "cell_type": "markdown",
   "id": "d75f060b",
   "metadata": {},
   "source": [
    "#### First let's import a few things"
   ]
  },
  {
   "cell_type": "code",
   "execution_count": 1,
   "id": "88f1ab64",
   "metadata": {},
   "outputs": [],
   "source": [
    "import os\n",
    "import ceci\n",
    "from ceci.pipeline import Pipeline"
   ]
  },
  {
   "cell_type": "markdown",
   "id": "819c8115",
   "metadata": {},
   "source": [
    "#### For now we need to be in the top-level ceci directory to read the input yaml file\n",
    "\n",
    "This is b/c it refers to the configuration file, which we will also need to read.\n",
    "\n",
    "We should fix this."
   ]
  },
  {
   "cell_type": "code",
   "execution_count": 2,
   "id": "e7c5a7d4",
   "metadata": {},
   "outputs": [],
   "source": [
    "os.chdir(os.path.join(os.path.dirname(ceci.__file__), '..'))\n",
    "pipeline = Pipeline.read('tests/test.yml')"
   ]
  },
  {
   "cell_type": "markdown",
   "id": "cce25626",
   "metadata": {},
   "source": [
    "#### Now we have some pipeline introspection\n",
    "\n",
    "1. Printing a list of stages\n",
    "2. Accessing a stage as an attribute of the pipeline\n",
    "3. Printing the inputs and output connections associated to a stage\n",
    "4. Printing the configuration associated to a stage"
   ]
  },
  {
   "cell_type": "code",
   "execution_count": 3,
   "id": "a53109f4",
   "metadata": {},
   "outputs": [
    {
     "name": "stdout",
     "output_type": "stream",
     "text": [
      "PZEstimationPipe    : <ceci_example.example_stages.PZEstimationPipe object at 0x7fdb24578280>\n",
      "shearMeasurementPipe: <ceci_example.example_stages.shearMeasurementPipe object at 0x7fdb247011f0>\n",
      "WLGCSelector        : <ceci_example.example_stages.WLGCSelector object at 0x7fdb24701250>\n",
      "SysMapMaker         : <ceci_example.example_stages.SysMapMaker object at 0x7fdb2470dcd0>\n",
      "SourceSummarizer    : <ceci_example.example_stages.SourceSummarizer object at 0x7fdb2470d460>\n",
      "WLGCCov             : <ceci_example.example_stages.WLGCCov object at 0x7fdb2470ddc0>\n",
      "WLGCRandoms         : <ceci_example.example_stages.WLGCRandoms object at 0x7fdb2470d130>\n",
      "WLGCTwoPoint        : <ceci_example.example_stages.WLGCTwoPoint object at 0x7fdb2470d970>\n",
      "WLGCSummaryStatistic: <ceci_example.example_stages.WLGCSummaryStatistic object at 0x7fdb2470de20>\n"
     ]
    }
   ],
   "source": [
    "pipeline.print_stages()"
   ]
  },
  {
   "cell_type": "code",
   "execution_count": 4,
   "id": "0349e47d",
   "metadata": {},
   "outputs": [
    {
     "name": "stdout",
     "output_type": "stream",
     "text": [
      "<ceci_example.example_stages.SysMapMaker object at 0x7fdb2470dcd0>\n"
     ]
    }
   ],
   "source": [
    "print(pipeline.SysMapMaker)"
   ]
  },
  {
   "cell_type": "code",
   "execution_count": 5,
   "id": "33ad41c1",
   "metadata": {},
   "outputs": [
    {
     "name": "stdout",
     "output_type": "stream",
     "text": [
      "Inputs--------\n",
      "DM                   : <class 'ceci_example.types.TextFile'> : ./tests/inputs/dm.txt\n",
      "Outputs--------\n",
      "diagnostic_maps      : <class 'ceci_example.types.TextFile'> : diagnostic_maps.txt\n"
     ]
    }
   ],
   "source": [
    "pipeline.SysMapMaker.print_io()"
   ]
  },
  {
   "cell_type": "code",
   "execution_count": 7,
   "id": "e16a6748",
   "metadata": {},
   "outputs": [
    {
     "name": "stdout",
     "output_type": "stream",
     "text": [
      "StageConfig{zbin_edges:[0.2, 0.3, 0.5],ra_range:[-5, 5],metacalibration:True,}\n"
     ]
    }
   ],
   "source": [
    "print(repr(pipeline.WLGCSelector.config))"
   ]
  },
  {
   "cell_type": "markdown",
   "id": "0e9ccff7",
   "metadata": {},
   "source": [
    "#### Ok, eventually this example should include most stuff, but for now let's just the pipeline"
   ]
  },
  {
   "cell_type": "code",
   "execution_count": 8,
   "id": "02b345a5",
   "metadata": {},
   "outputs": [
    {
     "name": "stdout",
     "output_type": "stream",
     "text": [
      "\n",
      "Executing PZEstimationPipe\n",
      "Command is:\n",
      "OMP_NUM_THREADS=1   python3 -m ceci_example PZEstimationPipe   --DM=./tests/inputs/dm.txt   --fiducial_cosmology=./tests/inputs/fiducial_cosmology.txt   --config=./tests/config.yml   --photoz_pdfs=./tests/outputs/photoz_pdfs.txt \n",
      "Output writing to ./tests/logs/PZEstimationPipe.out\n",
      "\n",
      "Job PZEstimationPipe has completed successfully!\n",
      "\n",
      "Executing shearMeasurementPipe\n",
      "Command is:\n",
      "OMP_NUM_THREADS=1   python3 -m ceci_example shearMeasurementPipe   --DM=./tests/inputs/dm.txt   --config=./tests/config.yml   --shear_catalog=./tests/outputs/shear_catalog.txt \n",
      "Output writing to ./tests/logs/shearMeasurementPipe.out\n",
      "\n",
      "Job shearMeasurementPipe has completed successfully!\n",
      "\n",
      "Executing WLGCSelector\n",
      "Command is:\n",
      "OMP_NUM_THREADS=1   python3 -m ceci_example WLGCSelector   --shear_catalog=./tests/outputs/shear_catalog.txt   --photoz_pdfs=./tests/outputs/photoz_pdfs.txt   --config=./tests/config.yml   --tomography_catalog=./tests/outputs/tomography_catalog.txt \n",
      "Output writing to ./tests/logs/WLGCSelector.out\n",
      "\n",
      "Job WLGCSelector has completed successfully!\n",
      "\n",
      "Executing SysMapMaker\n",
      "Command is:\n",
      "OMP_NUM_THREADS=1   python3 -m ceci_example SysMapMaker   --DM=./tests/inputs/dm.txt   --config=./tests/config.yml   --diagnostic_maps=./tests/outputs/diagnostic_maps.txt \n",
      "Output writing to ./tests/logs/SysMapMaker.out\n",
      "\n",
      "Job SysMapMaker has completed successfully!\n",
      "\n",
      "Executing SourceSummarizer\n",
      "Command is:\n",
      "OMP_NUM_THREADS=1   python3 -m ceci_example SourceSummarizer   --tomography_catalog=./tests/outputs/tomography_catalog.txt   --photoz_pdfs=./tests/outputs/photoz_pdfs.txt   --diagnostic_maps=./tests/outputs/diagnostic_maps.txt   --config=./tests/config.yml   --source_summary_data=./tests/outputs/source_summary_data.txt \n",
      "Output writing to ./tests/logs/SourceSummarizer.out\n",
      "\n",
      "Job SourceSummarizer has completed successfully!\n",
      "\n",
      "Executing WLGCCov\n",
      "Command is:\n",
      "OMP_NUM_THREADS=1   python3 -m ceci_example WLGCCov   --fiducial_cosmology=./tests/inputs/fiducial_cosmology.txt   --tomography_catalog=./tests/outputs/tomography_catalog.txt   --shear_catalog=./tests/outputs/shear_catalog.txt   --source_summary_data=./tests/outputs/source_summary_data.txt   --diagnostic_maps=./tests/outputs/diagnostic_maps.txt   --config=./tests/config.yml   --covariance=./tests/outputs/covariance.txt \n",
      "Output writing to ./tests/logs/WLGCCov.out\n",
      "\n",
      "Job WLGCCov has completed successfully!\n",
      "\n",
      "Executing WLGCRandoms\n",
      "Command is:\n",
      "OMP_NUM_THREADS=1   python3 -m ceci_example WLGCRandoms   --diagnostic_maps=./tests/outputs/diagnostic_maps.txt   --config=./tests/config.yml   --random_catalog=./tests/outputs/random_catalog.txt \n",
      "Output writing to ./tests/logs/WLGCRandoms.out\n",
      "\n",
      "Job WLGCRandoms has completed successfully!\n",
      "\n",
      "Executing WLGCTwoPoint\n",
      "Command is:\n",
      "OMP_NUM_THREADS=1   python3 -m ceci_example WLGCTwoPoint   --tomography_catalog=./tests/outputs/tomography_catalog.txt   --shear_catalog=./tests/outputs/shear_catalog.txt   --diagnostic_maps=./tests/outputs/diagnostic_maps.txt   --random_catalog=./tests/outputs/random_catalog.txt   --config=./tests/config.yml   --twopoint_data=./tests/outputs/twopoint_data.txt \n",
      "Output writing to ./tests/logs/WLGCTwoPoint.out\n",
      "\n",
      "Job WLGCTwoPoint has completed successfully!\n",
      "\n",
      "Executing WLGCSummaryStatistic\n",
      "Command is:\n",
      "OMP_NUM_THREADS=2   python3 -m ceci_example WLGCSummaryStatistic   --twopoint_data=./tests/outputs/twopoint_data.txt   --covariance=./tests/outputs/covariance.txt   --source_summary_data=./tests/outputs/source_summary_data.txt   --config=./tests/config.yml   --wlgc_summary_data=./tests/outputs/wlgc_summary_data.txt \n",
      "Output writing to ./tests/logs/WLGCSummaryStatistic.out\n",
      "\n",
      "Job WLGCSummaryStatistic has completed successfully!\n"
     ]
    }
   ],
   "source": [
    "status = pipeline.run()"
   ]
  },
  {
   "cell_type": "markdown",
   "id": "a7980900",
   "metadata": {},
   "source": [
    "#### Now let's do the same thing by building the pipeline with the python interface"
   ]
  },
  {
   "cell_type": "code",
   "execution_count": 9,
   "id": "65743643",
   "metadata": {},
   "outputs": [],
   "source": [
    "from ceci_example.example_stages import *"
   ]
  },
  {
   "cell_type": "code",
   "execution_count": 10,
   "id": "f98e2327",
   "metadata": {},
   "outputs": [],
   "source": [
    "pipe2 = Pipeline.interactive()\n",
    "overall_inputs = {'DM':'./tests/inputs/dm.txt',\n",
    "                  'fiducial_cosmology':'./tests/inputs/fiducial_cosmology.txt'}\n",
    "inputs = overall_inputs.copy()\n",
    "inputs['metacalibration'] = True\n",
    "inputs['config'] = None\n",
    "\n",
    "inputs.update(pipe2.add_stage(PZEstimationPipe.build(**inputs)))\n",
    "inputs.update(pipe2.add_stage(shearMeasurementPipe.build(**inputs, apply_flag=False)))\n",
    "inputs.update(pipe2.add_stage(WLGCSelector.build(**inputs, zbin_edges=[0.2, 0.3, 0.5], ra_range=[-5, 5])))\n",
    "inputs.update(pipe2.add_stage(SysMapMaker.build(**inputs)))\n",
    "inputs.update(pipe2.add_stage(SourceSummarizer.build(**inputs)))\n",
    "inputs.update(pipe2.add_stage(WLGCCov.build(**inputs)))\n",
    "inputs.update(pipe2.add_stage(WLGCRandoms.build(**inputs)))\n",
    "inputs.update(pipe2.add_stage(WLGCTwoPoint.build(**inputs)))\n",
    "inputs.update(pipe2.add_stage(WLGCSummaryStatistic.build(**inputs)))\n"
   ]
  },
  {
   "cell_type": "code",
   "execution_count": null,
   "id": "af32672e",
   "metadata": {},
   "outputs": [],
   "source": [
    "pipe2.build_stage(PZEstimationPipe, zbin_edges=[], ra_range)"
   ]
  },
  {
   "cell_type": "code",
   "execution_count": 11,
   "id": "4b6bd7e9",
   "metadata": {},
   "outputs": [
    {
     "data": {
      "text/plain": [
       "(({'SysMapMaker': <Job SysMapMaker>,\n",
       "   'WLGCRandoms': <Job WLGCRandoms>,\n",
       "   'shearMeasurementPipe': <Job shearMeasurementPipe>,\n",
       "   'PZEstimationPipe': <Job PZEstimationPipe>,\n",
       "   'WLGCSelector': <Job WLGCSelector>,\n",
       "   'WLGCTwoPoint': <Job WLGCTwoPoint>,\n",
       "   'SourceSummarizer': <Job SourceSummarizer>,\n",
       "   'WLGCCov': <Job WLGCCov>,\n",
       "   'WLGCSummaryStatistic': <Job WLGCSummaryStatistic>},\n",
       "  [<ceci_example.example_stages.SysMapMaker at 0x7fdb247406d0>,\n",
       "   <ceci_example.example_stages.WLGCRandoms at 0x7fdb247409a0>,\n",
       "   <ceci_example.example_stages.shearMeasurementPipe at 0x7fdb24740460>,\n",
       "   <ceci_example.example_stages.PZEstimationPipe at 0x7fdb24740400>,\n",
       "   <ceci_example.example_stages.WLGCSelector at 0x7fdb24740520>,\n",
       "   <ceci_example.example_stages.WLGCTwoPoint at 0x7fdb247400d0>,\n",
       "   <ceci_example.example_stages.SourceSummarizer at 0x7fdb24740820>,\n",
       "   <ceci_example.example_stages.WLGCCov at 0x7fdb247408e0>,\n",
       "   <ceci_example.example_stages.WLGCSummaryStatistic at 0x7fdb24740b50>]),\n",
       " {'output_dir': './tests/outputs', 'log_dir': './tests/logs', 'resume': False})"
      ]
     },
     "execution_count": 11,
     "metadata": {},
     "output_type": "execute_result"
    }
   ],
   "source": [
    "pipe2.load_configs(overall_inputs, pipeline.run_config, pipeline.stages_config)"
   ]
  },
  {
   "cell_type": "code",
   "execution_count": 12,
   "id": "1d9161e7",
   "metadata": {},
   "outputs": [
    {
     "ename": "TypeError",
     "evalue": "Value of type <class 'bool'>, when <class 'list'> was expected.",
     "output_type": "error",
     "traceback": [
      "\u001b[0;31m---------------------------------------------------------------------------\u001b[0m",
      "\u001b[0;31mTypeError\u001b[0m                                 Traceback (most recent call last)",
      "\u001b[0;32m/var/folders/lt/cbbq51wn7wd8ffv6knw1xn3h0000gn/T/ipykernel_56462/2224061169.py\u001b[0m in \u001b[0;36m<module>\u001b[0;34m\u001b[0m\n\u001b[0;32m----> 1\u001b[0;31m \u001b[0mpipe2\u001b[0m\u001b[0;34m.\u001b[0m\u001b[0mWLGCSelector\u001b[0m\u001b[0;34m.\u001b[0m\u001b[0mconfig\u001b[0m\u001b[0;34m[\u001b[0m\u001b[0;34m'zbin_edges'\u001b[0m\u001b[0;34m]\u001b[0m \u001b[0;34m=\u001b[0m \u001b[0;32mFalse\u001b[0m\u001b[0;34m\u001b[0m\u001b[0;34m\u001b[0m\u001b[0m\n\u001b[0m",
      "\u001b[0;32m~/software/vro/ceci/ceci/config.py\u001b[0m in \u001b[0;36m__setitem__\u001b[0;34m(self, key, value)\u001b[0m\n\u001b[1;32m    142\u001b[0m \u001b[0;34m\u001b[0m\u001b[0m\n\u001b[1;32m    143\u001b[0m     \u001b[0;32mdef\u001b[0m \u001b[0m__setitem__\u001b[0m\u001b[0;34m(\u001b[0m\u001b[0mself\u001b[0m\u001b[0;34m,\u001b[0m \u001b[0mkey\u001b[0m\u001b[0;34m,\u001b[0m \u001b[0mvalue\u001b[0m\u001b[0;34m)\u001b[0m\u001b[0;34m:\u001b[0m\u001b[0;34m\u001b[0m\u001b[0;34m\u001b[0m\u001b[0m\n\u001b[0;32m--> 144\u001b[0;31m         \u001b[0;32mreturn\u001b[0m \u001b[0mself\u001b[0m\u001b[0;34m.\u001b[0m\u001b[0m__setattr__\u001b[0m\u001b[0;34m(\u001b[0m\u001b[0mkey\u001b[0m\u001b[0;34m,\u001b[0m \u001b[0mvalue\u001b[0m\u001b[0;34m)\u001b[0m\u001b[0;34m\u001b[0m\u001b[0;34m\u001b[0m\u001b[0m\n\u001b[0m\u001b[1;32m    145\u001b[0m \u001b[0;34m\u001b[0m\u001b[0m\n\u001b[1;32m    146\u001b[0m     \u001b[0;32mdef\u001b[0m \u001b[0m__delitem__\u001b[0m\u001b[0;34m(\u001b[0m\u001b[0mself\u001b[0m\u001b[0;34m,\u001b[0m \u001b[0mkey\u001b[0m\u001b[0;34m)\u001b[0m\u001b[0;34m:\u001b[0m\u001b[0;34m\u001b[0m\u001b[0;34m\u001b[0m\u001b[0m\n",
      "\u001b[0;32m~/software/vro/ceci/ceci/config.py\u001b[0m in \u001b[0;36m__setattr__\u001b[0;34m(self, key, value)\u001b[0m\n\u001b[1;32m    160\u001b[0m             \u001b[0mattr\u001b[0m \u001b[0;34m=\u001b[0m \u001b[0mself\u001b[0m\u001b[0;34m.\u001b[0m\u001b[0m_param_dict\u001b[0m\u001b[0;34m[\u001b[0m\u001b[0mkey\u001b[0m\u001b[0;34m]\u001b[0m\u001b[0;34m\u001b[0m\u001b[0;34m\u001b[0m\u001b[0m\n\u001b[1;32m    161\u001b[0m             \u001b[0;32mif\u001b[0m \u001b[0misinstance\u001b[0m\u001b[0;34m(\u001b[0m\u001b[0mattr\u001b[0m\u001b[0;34m,\u001b[0m \u001b[0mStageParameter\u001b[0m\u001b[0;34m)\u001b[0m\u001b[0;34m:\u001b[0m\u001b[0;34m\u001b[0m\u001b[0;34m\u001b[0m\u001b[0m\n\u001b[0;32m--> 162\u001b[0;31m                 \u001b[0;32mreturn\u001b[0m \u001b[0mattr\u001b[0m\u001b[0;34m.\u001b[0m\u001b[0mset\u001b[0m\u001b[0;34m(\u001b[0m\u001b[0mvalue\u001b[0m\u001b[0;34m)\u001b[0m\u001b[0;34m\u001b[0m\u001b[0;34m\u001b[0m\u001b[0m\n\u001b[0m\u001b[1;32m    163\u001b[0m         \u001b[0mself\u001b[0m\u001b[0;34m.\u001b[0m\u001b[0m_param_dict\u001b[0m\u001b[0;34m[\u001b[0m\u001b[0mkey\u001b[0m\u001b[0;34m]\u001b[0m \u001b[0;34m=\u001b[0m \u001b[0mvalue\u001b[0m\u001b[0;34m\u001b[0m\u001b[0;34m\u001b[0m\u001b[0m\n\u001b[1;32m    164\u001b[0m         \u001b[0;32mreturn\u001b[0m \u001b[0mvalue\u001b[0m\u001b[0;34m\u001b[0m\u001b[0;34m\u001b[0m\u001b[0m\n",
      "\u001b[0;32m~/software/vro/ceci/ceci/config.py\u001b[0m in \u001b[0;36mset\u001b[0;34m(self, value)\u001b[0m\n\u001b[1;32m     72\u001b[0m \u001b[0;34m\u001b[0m\u001b[0m\n\u001b[1;32m     73\u001b[0m     \u001b[0;32mdef\u001b[0m \u001b[0mset\u001b[0m\u001b[0;34m(\u001b[0m\u001b[0mself\u001b[0m\u001b[0;34m,\u001b[0m \u001b[0mvalue\u001b[0m\u001b[0;34m)\u001b[0m\u001b[0;34m:\u001b[0m\u001b[0;34m\u001b[0m\u001b[0;34m\u001b[0m\u001b[0m\n\u001b[0;32m---> 74\u001b[0;31m         \u001b[0mself\u001b[0m\u001b[0;34m.\u001b[0m\u001b[0m_value\u001b[0m \u001b[0;34m=\u001b[0m \u001b[0mcast_value\u001b[0m\u001b[0;34m(\u001b[0m\u001b[0mself\u001b[0m\u001b[0;34m.\u001b[0m\u001b[0m_dtype\u001b[0m\u001b[0;34m,\u001b[0m \u001b[0mvalue\u001b[0m\u001b[0;34m)\u001b[0m\u001b[0;34m\u001b[0m\u001b[0;34m\u001b[0m\u001b[0m\n\u001b[0m\u001b[1;32m     75\u001b[0m         \u001b[0;32mreturn\u001b[0m \u001b[0mself\u001b[0m\u001b[0;34m.\u001b[0m\u001b[0m_value\u001b[0m\u001b[0;34m\u001b[0m\u001b[0;34m\u001b[0m\u001b[0m\n\u001b[1;32m     76\u001b[0m \u001b[0;34m\u001b[0m\u001b[0m\n",
      "\u001b[0;32m~/software/vro/ceci/ceci/config.py\u001b[0m in \u001b[0;36mcast_value\u001b[0;34m(dtype, value)\u001b[0m\n\u001b[1;32m     50\u001b[0m \u001b[0;34m\u001b[0m\u001b[0m\n\u001b[1;32m     51\u001b[0m     \u001b[0mmsg\u001b[0m \u001b[0;34m=\u001b[0m \u001b[0;34mf\"Value of type {type(value)}, when {str(dtype)} was expected.\"\u001b[0m\u001b[0;34m\u001b[0m\u001b[0;34m\u001b[0m\u001b[0m\n\u001b[0;32m---> 52\u001b[0;31m     \u001b[0;32mraise\u001b[0m \u001b[0mTypeError\u001b[0m\u001b[0;34m(\u001b[0m\u001b[0mmsg\u001b[0m\u001b[0;34m)\u001b[0m\u001b[0;34m\u001b[0m\u001b[0;34m\u001b[0m\u001b[0m\n\u001b[0m\u001b[1;32m     53\u001b[0m \u001b[0;34m\u001b[0m\u001b[0m\n\u001b[1;32m     54\u001b[0m \u001b[0;34m\u001b[0m\u001b[0m\n",
      "\u001b[0;31mTypeError\u001b[0m: Value of type <class 'bool'>, when <class 'list'> was expected."
     ]
    }
   ],
   "source": [
    "pipe2.WLGCSelector.config['zbin_edges'] = False"
   ]
  },
  {
   "cell_type": "code",
   "execution_count": 13,
   "id": "7d43d68c",
   "metadata": {},
   "outputs": [
    {
     "name": "stdout",
     "output_type": "stream",
     "text": [
      "\n",
      "Executing SysMapMaker\n",
      "Command is:\n",
      "OMP_NUM_THREADS=1   python3 -m ceci_example SysMapMaker   --DM=./tests/inputs/dm.txt   --config=./tests/config.yml   --diagnostic_maps=./tests/outputs/diagnostic_maps.txt \n",
      "Output writing to ./tests/logs/SysMapMaker.out\n",
      "\n",
      "Job SysMapMaker has completed successfully!\n",
      "\n",
      "Executing WLGCRandoms\n",
      "Command is:\n",
      "OMP_NUM_THREADS=1   python3 -m ceci_example WLGCRandoms   --diagnostic_maps=./tests/outputs/diagnostic_maps.txt   --config=./tests/config.yml   --random_catalog=./tests/outputs/random_catalog.txt \n",
      "Output writing to ./tests/logs/WLGCRandoms.out\n",
      "\n",
      "Job WLGCRandoms has completed successfully!\n",
      "\n",
      "Executing shearMeasurementPipe\n",
      "Command is:\n",
      "OMP_NUM_THREADS=1   python3 -m ceci_example shearMeasurementPipe   --DM=./tests/inputs/dm.txt   --config=./tests/config.yml   --shear_catalog=./tests/outputs/shear_catalog.txt \n",
      "Output writing to ./tests/logs/shearMeasurementPipe.out\n",
      "\n",
      "Job shearMeasurementPipe has completed successfully!\n",
      "\n",
      "Executing PZEstimationPipe\n",
      "Command is:\n",
      "OMP_NUM_THREADS=1   python3 -m ceci_example PZEstimationPipe   --DM=./tests/inputs/dm.txt   --fiducial_cosmology=./tests/inputs/fiducial_cosmology.txt   --config=./tests/config.yml   --photoz_pdfs=./tests/outputs/photoz_pdfs.txt \n",
      "Output writing to ./tests/logs/PZEstimationPipe.out\n",
      "\n",
      "Job PZEstimationPipe has completed successfully!\n",
      "\n",
      "Executing WLGCSelector\n",
      "Command is:\n",
      "OMP_NUM_THREADS=1   python3 -m ceci_example WLGCSelector   --shear_catalog=./tests/outputs/shear_catalog.txt   --photoz_pdfs=./tests/outputs/photoz_pdfs.txt   --config=./tests/config.yml   --tomography_catalog=./tests/outputs/tomography_catalog.txt \n",
      "Output writing to ./tests/logs/WLGCSelector.out\n",
      "\n",
      "Job WLGCSelector has completed successfully!\n",
      "\n",
      "Executing WLGCTwoPoint\n",
      "Command is:\n",
      "OMP_NUM_THREADS=1   python3 -m ceci_example WLGCTwoPoint   --tomography_catalog=./tests/outputs/tomography_catalog.txt   --shear_catalog=./tests/outputs/shear_catalog.txt   --diagnostic_maps=./tests/outputs/diagnostic_maps.txt   --random_catalog=./tests/outputs/random_catalog.txt   --config=./tests/config.yml   --twopoint_data=./tests/outputs/twopoint_data.txt \n",
      "Output writing to ./tests/logs/WLGCTwoPoint.out\n",
      "\n",
      "Job WLGCTwoPoint has completed successfully!\n",
      "\n",
      "Executing SourceSummarizer\n",
      "Command is:\n",
      "OMP_NUM_THREADS=1   python3 -m ceci_example SourceSummarizer   --tomography_catalog=./tests/outputs/tomography_catalog.txt   --photoz_pdfs=./tests/outputs/photoz_pdfs.txt   --diagnostic_maps=./tests/outputs/diagnostic_maps.txt   --config=./tests/config.yml   --source_summary_data=./tests/outputs/source_summary_data.txt \n",
      "Output writing to ./tests/logs/SourceSummarizer.out\n",
      "\n",
      "Job SourceSummarizer has completed successfully!\n",
      "\n",
      "Executing WLGCCov\n",
      "Command is:\n",
      "OMP_NUM_THREADS=1   python3 -m ceci_example WLGCCov   --fiducial_cosmology=./tests/inputs/fiducial_cosmology.txt   --tomography_catalog=./tests/outputs/tomography_catalog.txt   --shear_catalog=./tests/outputs/shear_catalog.txt   --source_summary_data=./tests/outputs/source_summary_data.txt   --diagnostic_maps=./tests/outputs/diagnostic_maps.txt   --config=./tests/config.yml   --covariance=./tests/outputs/covariance.txt \n",
      "Output writing to ./tests/logs/WLGCCov.out\n",
      "\n",
      "Job WLGCCov has completed successfully!\n",
      "\n",
      "Executing WLGCSummaryStatistic\n",
      "Command is:\n",
      "OMP_NUM_THREADS=1   python3 -m ceci_example WLGCSummaryStatistic   --twopoint_data=./tests/outputs/twopoint_data.txt   --covariance=./tests/outputs/covariance.txt   --source_summary_data=./tests/outputs/source_summary_data.txt   --config=./tests/config.yml   --wlgc_summary_data=./tests/outputs/wlgc_summary_data.txt \n",
      "Output writing to ./tests/logs/WLGCSummaryStatistic.out\n",
      "\n",
      "Job WLGCSummaryStatistic has completed successfully!\n"
     ]
    },
    {
     "data": {
      "text/plain": [
       "0"
      ]
     },
     "execution_count": 13,
     "metadata": {},
     "output_type": "execute_result"
    }
   ],
   "source": [
    "pipe2.run()"
   ]
  },
  {
   "cell_type": "code",
   "execution_count": null,
   "id": "8afb1a96",
   "metadata": {},
   "outputs": [],
   "source": []
  }
 ],
 "metadata": {
  "kernelspec": {
   "display_name": "Python 3 (ipykernel)",
   "language": "python",
   "name": "python3"
  },
  "language_info": {
   "codemirror_mode": {
    "name": "ipython",
    "version": 3
   },
   "file_extension": ".py",
   "mimetype": "text/x-python",
   "name": "python",
   "nbconvert_exporter": "python",
   "pygments_lexer": "ipython3",
   "version": "3.8.12"
  }
 },
 "nbformat": 4,
 "nbformat_minor": 5
}
