{
 "cells": [
  {
   "cell_type": "markdown",
   "id": "d75f060b",
   "metadata": {},
   "source": [
    "#### First let's import a few things"
   ]
  },
  {
   "cell_type": "code",
   "execution_count": null,
   "id": "88f1ab64",
   "metadata": {},
   "outputs": [],
   "source": [
    "import os\n",
    "import ceci\n",
    "from ceci.pipeline import Pipeline"
   ]
  },
  {
   "cell_type": "markdown",
   "id": "819c8115",
   "metadata": {},
   "source": [
    "#### For now we need to be in the top-level ceci directory to read the input yaml file\n",
    "\n",
    "This is b/c it refers to the configuration file, which we will also need to read.\n",
    "\n",
    "We should fix this."
   ]
  },
  {
   "cell_type": "code",
   "execution_count": null,
   "id": "e7c5a7d4",
   "metadata": {},
   "outputs": [],
   "source": [
    "os.chdir(os.path.join(os.path.dirname(ceci.__file__), '..'))\n",
    "pipeline = Pipeline.read('tests/test.yml')"
   ]
  },
  {
   "cell_type": "markdown",
   "id": "cce25626",
   "metadata": {},
   "source": [
    "#### Now we have some pipeline introspection\n",
    "\n",
    "1. Printing a list of stages\n",
    "2. Accessing a stage as an attribute of the pipeline\n",
    "3. Printing the inputs and output connections associated to a stage\n",
    "4. Printing the configuration associated to a stage"
   ]
  },
  {
   "cell_type": "code",
   "execution_count": null,
   "id": "a53109f4",
   "metadata": {},
   "outputs": [],
   "source": [
    "pipeline.print_stages()"
   ]
  },
  {
   "cell_type": "code",
   "execution_count": null,
   "id": "0349e47d",
   "metadata": {},
   "outputs": [],
   "source": [
    "print(pipeline.SysMapMaker)"
   ]
  },
  {
   "cell_type": "code",
   "execution_count": null,
   "id": "33ad41c1",
   "metadata": {},
   "outputs": [],
   "source": [
    "pipeline.SysMapMaker.print_io()"
   ]
  },
  {
   "cell_type": "code",
   "execution_count": null,
   "id": "e16a6748",
   "metadata": {},
   "outputs": [],
   "source": [
    "print(repr(pipeline.WLGCSelector.config))"
   ]
  },
  {
   "cell_type": "markdown",
   "id": "0e9ccff7",
   "metadata": {},
   "source": [
    "#### Ok, eventually this example should include most stuff, but for now let's just the pipeline"
   ]
  },
  {
   "cell_type": "code",
   "execution_count": null,
   "id": "02b345a5",
   "metadata": {},
   "outputs": [],
   "source": [
    "status = pipeline.run()"
   ]
  },
  {
   "cell_type": "markdown",
   "id": "90bd832e",
   "metadata": {},
   "source": [
    "#### Now let's do the same thing by building the pipeline with the python interface"
   ]
  },
  {
   "cell_type": "code",
   "execution_count": null,
   "id": "74f69a12",
   "metadata": {},
   "outputs": [],
   "source": [
    "from ceci_example.example_stages import *"
   ]
  },
  {
   "cell_type": "code",
   "execution_count": null,
   "id": "4485aba5",
   "metadata": {},
   "outputs": [],
   "source": [
    "pipe2 = Pipeline.interactive()\n",
    "overall_inputs = {'DM':'./tests/inputs/dm.txt',\n",
    "                  'fiducial_cosmology':'./tests/inputs/fiducial_cosmology.txt'}\n",
    "inputs = overall_inputs.copy()\n",
    "inputs['metacalibration'] = True\n",
    "inputs['config'] = None\n",
    "\n",
    "inputs.update(pipe2.add_stage(PZEstimationPipe.build(**inputs)))\n",
    "inputs.update(pipe2.add_stage(shearMeasurementPipe.build(**inputs, apply_flag=False)))\n",
    "inputs.update(pipe2.add_stage(WLGCSelector.build(**inputs, zbin_edges=[0.2, 0.3, 0.5], ra_range=[-5, 5])))\n",
    "inputs.update(pipe2.add_stage(SysMapMaker.build(**inputs)))\n",
    "inputs.update(pipe2.add_stage(SourceSummarizer.build(**inputs)))\n",
    "inputs.update(pipe2.add_stage(WLGCCov.build(**inputs)))\n",
    "inputs.update(pipe2.add_stage(WLGCRandoms.build(**inputs)))\n",
    "inputs.update(pipe2.add_stage(WLGCTwoPoint.build(**inputs)))\n",
    "inputs.update(pipe2.add_stage(WLGCSummaryStatistic.build(**inputs)))\n"
   ]
  },
  {
   "cell_type": "code",
   "execution_count": null,
   "id": "e0411df5",
   "metadata": {},
   "outputs": [],
   "source": [
    "pipe2.load_configs(overall_inputs, pipeline.run_config, pipeline.stages_config)"
   ]
  },
  {
   "cell_type": "code",
   "execution_count": null,
   "id": "aa335c0e",
   "metadata": {},
   "outputs": [],
   "source": [
    "pipe2.WLGCCov.outputs"
   ]
  },
  {
   "cell_type": "code",
   "execution_count": null,
   "id": "111f0ad1",
   "metadata": {},
   "outputs": [],
   "source": [
    "pipe2.WLGCCov.config['aliases'] = dict(covariance='covariance_copy')\n",
    "pipe2.WLGCSummaryStatistic.config['aliases'] = dict(covariance='covariance_copy')"
   ]
  },
  {
   "cell_type": "code",
   "execution_count": null,
   "id": "366d9fce",
   "metadata": {},
   "outputs": [],
   "source": [
    "pipe2.WLGCCov.find_outputs('.')"
   ]
  },
  {
   "cell_type": "code",
   "execution_count": null,
   "id": "f80ee2f1",
   "metadata": {},
   "outputs": [],
   "source": [
    "pipe2.run()"
   ]
  },
  {
   "cell_type": "code",
   "execution_count": null,
   "id": "aa1ab5cd",
   "metadata": {},
   "outputs": [],
   "source": []
  }
 ],
 "metadata": {
  "kernelspec": {
   "display_name": "Python 3 (ipykernel)",
   "language": "python",
   "name": "python3"
  },
  "language_info": {
   "codemirror_mode": {
    "name": "ipython",
    "version": 3
   },
   "file_extension": ".py",
   "mimetype": "text/x-python",
   "name": "python",
   "nbconvert_exporter": "python",
   "pygments_lexer": "ipython3",
   "version": "3.8.12"
  }
 },
 "nbformat": 4,
 "nbformat_minor": 5
}
