{
 "cells": [
  {
   "cell_type": "markdown",
   "id": "d75f060b",
   "metadata": {},
   "source": [
    "#### First let's import a few things"
   ]
  },
  {
   "cell_type": "code",
   "execution_count": null,
   "id": "88f1ab64",
   "metadata": {},
   "outputs": [],
   "source": [
    "import os\n",
    "import ceci\n",
    "from ceci.pipeline import Pipeline"
   ]
  },
  {
   "cell_type": "markdown",
   "id": "819c8115",
   "metadata": {},
   "source": [
    "#### For now we need to be in the top-level ceci directory to read the input yaml file\n",
    "\n",
    "This is b/c it refers to the configuration file, which we will also need to read.\n",
    "\n",
    "We should fix this."
   ]
  },
  {
   "cell_type": "code",
   "execution_count": null,
   "id": "e7c5a7d4",
   "metadata": {},
   "outputs": [],
   "source": [
    "os.chdir(os.path.join(os.path.dirname(ceci.__file__), '..'))\n",
    "pipeline = Pipeline.read('tests/test.yml')"
   ]
  },
  {
   "cell_type": "markdown",
   "id": "cce25626",
   "metadata": {},
   "source": [
    "#### Now we have some pipeline introspection\n",
    "\n",
    "1. Printing a list of stages\n",
    "2. Accessing a stage as an attribute of the pipeline\n",
    "3. Printing the inputs and output connections associated to a stage\n",
    "4. Printing the configuration associated to a stage"
   ]
  },
  {
   "cell_type": "code",
   "execution_count": null,
   "id": "a53109f4",
   "metadata": {},
   "outputs": [],
   "source": [
    "pipeline.print_stages()"
   ]
  },
  {
   "cell_type": "code",
   "execution_count": null,
   "id": "0349e47d",
   "metadata": {},
   "outputs": [],
   "source": [
    "print(pipeline.SysMapMaker)"
   ]
  },
  {
   "cell_type": "code",
   "execution_count": null,
   "id": "33ad41c1",
   "metadata": {},
   "outputs": [],
   "source": [
    "pipeline.SysMapMaker.print_io()"
   ]
  },
  {
   "cell_type": "code",
   "execution_count": null,
   "id": "e16a6748",
   "metadata": {},
   "outputs": [],
   "source": [
    "print(repr(pipeline.WLGCSelector.config))"
   ]
  },
  {
   "cell_type": "markdown",
   "id": "1e6f1c13",
   "metadata": {},
   "source": [
    "#### Now we show how to save and read back a pipeline\n",
    "\n",
    "The two different versions (i.e., with and without the reduce_config=True) will save slightly different versions\n",
    "of the yaml file.  \n",
    "\n",
    "In the former case we explicitly save everything for each stage of the pipeline.\n",
    "In the later case, we reduce the configuration by parsing out the inputs, outputs and global params.  "
   ]
  },
  {
   "cell_type": "code",
   "execution_count": null,
   "id": "f331716f",
   "metadata": {},
   "outputs": [],
   "source": [
    "pipeline.save('test_save.yml')"
   ]
  },
  {
   "cell_type": "code",
   "execution_count": null,
   "id": "91df34d8",
   "metadata": {},
   "outputs": [],
   "source": [
    "pipe_read = Pipeline.read('test_save.yml')"
   ]
  },
  {
   "cell_type": "code",
   "execution_count": null,
   "id": "0188188d",
   "metadata": {},
   "outputs": [],
   "source": [
    "pipeline.save('test_save_v2.yml', reduce_config=True)"
   ]
  },
  {
   "cell_type": "code",
   "execution_count": null,
   "id": "6c753627",
   "metadata": {},
   "outputs": [],
   "source": [
    "pipe_read_v2 = Pipeline.read('test_save_v2.yml')"
   ]
  },
  {
   "cell_type": "markdown",
   "id": "0e9ccff7",
   "metadata": {},
   "source": [
    "#### Ok, eventually this example should include most stuff, but for now let's just the pipeline"
   ]
  },
  {
   "cell_type": "code",
   "execution_count": null,
   "id": "02b345a5",
   "metadata": {},
   "outputs": [],
   "source": [
    "status = pipeline.run()"
   ]
  },
  {
   "cell_type": "markdown",
   "id": "a3ace45a",
   "metadata": {},
   "source": [
    "#### Now let's do the same thing by building the pipeline with the python interface"
   ]
  },
  {
   "cell_type": "code",
   "execution_count": null,
   "id": "2790e6cb",
   "metadata": {},
   "outputs": [],
   "source": [
    "from ceci_example.example_stages import *"
   ]
  },
  {
   "cell_type": "code",
   "execution_count": null,
   "id": "13669ff1",
   "metadata": {},
   "outputs": [],
   "source": [
    "pipe2 = Pipeline.interactive()\n",
    "overall_inputs = {'DM':'./tests/inputs/dm.txt',\n",
    "                  'fiducial_cosmology':'./tests/inputs/fiducial_cosmology.txt'}\n",
    "inputs = overall_inputs.copy()\n",
    "inputs['metacalibration'] = True\n",
    "inputs['config'] = None\n",
    "\n",
    "pipe2.pipeline_files.update(**inputs)\n",
    "pipe2.build_stage(PZEstimationPipe)\n",
    "pipe2.build_stage(shearMeasurementPipe, apply_flag=False)\n",
    "pipe2.build_stage(WLGCSelector, zbin_edges=[0.2, 0.3, 0.5], ra_range=[-5, 5])\n",
    "pipe2.build_stage(SysMapMaker)\n",
    "pipe2.build_stage(SourceSummarizer)\n",
    "pipe2.build_stage(WLGCCov)\n",
    "pipe2.build_stage(WLGCRandoms)\n",
    "pipe2.build_stage(WLGCTwoPoint)\n",
    "pipe2.build_stage(WLGCSummaryStatistic)\n"
   ]
  },
  {
   "cell_type": "code",
   "execution_count": null,
   "id": "909f7cfa",
   "metadata": {},
   "outputs": [],
   "source": [
    "pipe2.WLGCCov.config"
   ]
  },
  {
   "cell_type": "code",
   "execution_count": null,
   "id": "c65f96ae",
   "metadata": {},
   "outputs": [],
   "source": [
    "pipe2.initialize(overall_inputs, pipeline.run_config, pipeline.stages_config)"
   ]
  },
  {
   "cell_type": "code",
   "execution_count": null,
   "id": "52595250",
   "metadata": {},
   "outputs": [],
   "source": [
    "pipe2.WLGCCov.outputs"
   ]
  },
  {
   "cell_type": "code",
   "execution_count": null,
   "id": "b7258c1f",
   "metadata": {},
   "outputs": [],
   "source": [
    "pipe2.WLGCCov.config['aliases'] = dict(covariance='covariance_copy')\n",
    "pipe2.WLGCSummaryStatistic.config['aliases'] = dict(covariance='covariance_copy')"
   ]
  },
  {
   "cell_type": "code",
   "execution_count": null,
   "id": "687115f5",
   "metadata": {},
   "outputs": [],
   "source": [
    "pipe2.WLGCCov.find_outputs('.')"
   ]
  },
  {
   "cell_type": "code",
   "execution_count": null,
   "id": "a22aa4a3",
   "metadata": {},
   "outputs": [],
   "source": [
    "pipe2.run()"
   ]
  },
  {
   "cell_type": "code",
   "execution_count": null,
   "id": "df60b9ee",
   "metadata": {},
   "outputs": [],
   "source": []
  },
  {
   "cell_type": "code",
   "execution_count": null,
   "id": "a4b969da",
   "metadata": {},
   "outputs": [],
   "source": []
  }
 ],
 "metadata": {
  "kernelspec": {
   "display_name": "Python 3 (ipykernel)",
   "language": "python",
   "name": "python3"
  },
  "language_info": {
   "codemirror_mode": {
    "name": "ipython",
    "version": 3
   },
   "file_extension": ".py",
   "mimetype": "text/x-python",
   "name": "python",
   "nbconvert_exporter": "python",
   "pygments_lexer": "ipython3",
   "version": "3.8.12"
  }
 },
 "nbformat": 4,
 "nbformat_minor": 5
}
